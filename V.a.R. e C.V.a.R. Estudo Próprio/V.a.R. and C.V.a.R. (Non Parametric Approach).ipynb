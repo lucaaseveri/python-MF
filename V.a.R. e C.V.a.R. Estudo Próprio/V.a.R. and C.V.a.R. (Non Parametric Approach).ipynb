{
 "cells": [
  {
   "cell_type": "markdown",
   "metadata": {},
   "source": [
    "# Var and CVar by a Non Parametric Approach\n",
    "\n",
    "É preciso:\n",
    "   * Definir um intervalo de confiança e pegar os n piores valores fora do intervalo\n",
    "   * A partir disso o VaR seria o melhor valor entre os n valores\n",
    "   * O CVaR seria a media dos n valores"
   ]
  },
  {
   "cell_type": "code",
   "execution_count": 18,
   "metadata": {
    "scrolled": true
   },
   "outputs": [],
   "source": [
    "import numpy as np\n",
    "import pandas as pd\n",
    "from pandas_datareader import data as wb\n",
    "import matplotlib.pyplot as plt"
   ]
  },
  {
   "cell_type": "markdown",
   "metadata": {},
   "source": [
    "## Puxando as companhias listadas no Ibovespa\n",
    "\n",
    "```\n",
    "table=pd.read_html('https://en.wikipedia.org/wiki/List_of_companies_listed_on_Ibovespa')\n",
    "tickers = table[0]['Ticker']\n",
    "\n",
    "for i in range(len(tickers)):\n",
    "    tickers[i] += '.SA'\n",
    "    \n",
    "tickers\n",
    "```\n"
   ]
  },
  {
   "cell_type": "code",
   "execution_count": 2,
   "metadata": {},
   "outputs": [
    {
     "name": "stdout",
     "output_type": "stream",
     "text": [
      "Insira as ações para analise: \n",
      "MGLU3.SA\n",
      "Digite 0 para parar\n",
      "Insira as ações para analise: \n",
      "VALE3.SA\n",
      "Digite 0 para parar\n",
      "Insira as ações para analise: \n",
      "PETR4.SA\n",
      "Digite 0 para parar\n",
      "Insira as ações para analise: \n",
      "0\n",
      "Digite 0 para parar\n"
     ]
    }
   ],
   "source": [
    "## Input pelo teclado\n",
    "\n",
    "#```\n",
    "tickers = []\n",
    "x='...'\n",
    "\n",
    "while(x!='0'):\n",
    "    x = str(input('Insira as ações para analise: \\n'))\n",
    "    print('Digite 0 para parar')\n",
    "    if(x!='0'):\n",
    "        tickers.append(x)\n",
    "#```"
   ]
  },
  {
   "cell_type": "code",
   "execution_count": 3,
   "metadata": {},
   "outputs": [
    {
     "data": {
      "text/html": [
       "<div>\n",
       "<style scoped>\n",
       "    .dataframe tbody tr th:only-of-type {\n",
       "        vertical-align: middle;\n",
       "    }\n",
       "\n",
       "    .dataframe tbody tr th {\n",
       "        vertical-align: top;\n",
       "    }\n",
       "\n",
       "    .dataframe thead th {\n",
       "        text-align: right;\n",
       "    }\n",
       "</style>\n",
       "<table border=\"1\" class=\"dataframe\">\n",
       "  <thead>\n",
       "    <tr style=\"text-align: right;\">\n",
       "      <th></th>\n",
       "      <th>MGLU3.SA</th>\n",
       "      <th>VALE3.SA</th>\n",
       "      <th>PETR4.SA</th>\n",
       "    </tr>\n",
       "    <tr>\n",
       "      <th>Date</th>\n",
       "      <th></th>\n",
       "      <th></th>\n",
       "      <th></th>\n",
       "    </tr>\n",
       "  </thead>\n",
       "  <tbody>\n",
       "    <tr>\n",
       "      <th>2011-05-02</th>\n",
       "      <td>0.849938</td>\n",
       "      <td>34.241356</td>\n",
       "      <td>21.969473</td>\n",
       "    </tr>\n",
       "    <tr>\n",
       "      <th>2011-05-03</th>\n",
       "      <td>0.842187</td>\n",
       "      <td>33.459190</td>\n",
       "      <td>21.730392</td>\n",
       "    </tr>\n",
       "    <tr>\n",
       "      <th>2011-05-04</th>\n",
       "      <td>0.851488</td>\n",
       "      <td>32.837475</td>\n",
       "      <td>21.619392</td>\n",
       "    </tr>\n",
       "    <tr>\n",
       "      <th>2011-05-05</th>\n",
       "      <td>0.846321</td>\n",
       "      <td>33.251953</td>\n",
       "      <td>20.893627</td>\n",
       "    </tr>\n",
       "    <tr>\n",
       "      <th>2011-05-06</th>\n",
       "      <td>0.840121</td>\n",
       "      <td>33.258636</td>\n",
       "      <td>20.671621</td>\n",
       "    </tr>\n",
       "  </tbody>\n",
       "</table>\n",
       "</div>"
      ],
      "text/plain": [
       "            MGLU3.SA   VALE3.SA   PETR4.SA\n",
       "Date                                      \n",
       "2011-05-02  0.849938  34.241356  21.969473\n",
       "2011-05-03  0.842187  33.459190  21.730392\n",
       "2011-05-04  0.851488  32.837475  21.619392\n",
       "2011-05-05  0.846321  33.251953  20.893627\n",
       "2011-05-06  0.840121  33.258636  20.671621"
      ]
     },
     "execution_count": 3,
     "metadata": {},
     "output_type": "execute_result"
    }
   ],
   "source": [
    "# Puxando valores históricos das ações a serem analisadas\n",
    "\n",
    "\n",
    "mydata = pd.DataFrame()\n",
    "\n",
    "for t in tickers:\n",
    "    mydata[t] = wb.DataReader(t, data_source='yahoo', start='2008-4-20')['Adj Close']\n",
    "    \n",
    "mydata.head()"
   ]
  },
  {
   "cell_type": "code",
   "execution_count": 4,
   "metadata": {},
   "outputs": [],
   "source": [
    "# Descobrindo o número de ações analisadas\n",
    "\n",
    "numbers_of_tickers = 0\n",
    "\n",
    "for i in tickers:\n",
    "    numbers_of_tickers += 1\n",
    "\n",
    "#numbers_of_tickers"
   ]
  },
  {
   "cell_type": "code",
   "execution_count": 5,
   "metadata": {
    "scrolled": true
   },
   "outputs": [
    {
     "data": {
      "text/html": [
       "<div>\n",
       "<style scoped>\n",
       "    .dataframe tbody tr th:only-of-type {\n",
       "        vertical-align: middle;\n",
       "    }\n",
       "\n",
       "    .dataframe tbody tr th {\n",
       "        vertical-align: top;\n",
       "    }\n",
       "\n",
       "    .dataframe thead th {\n",
       "        text-align: right;\n",
       "    }\n",
       "</style>\n",
       "<table border=\"1\" class=\"dataframe\">\n",
       "  <thead>\n",
       "    <tr style=\"text-align: right;\">\n",
       "      <th></th>\n",
       "      <th>MGLU3.SA</th>\n",
       "      <th>VALE3.SA</th>\n",
       "      <th>PETR4.SA</th>\n",
       "    </tr>\n",
       "    <tr>\n",
       "      <th>Date</th>\n",
       "      <th></th>\n",
       "      <th></th>\n",
       "      <th></th>\n",
       "    </tr>\n",
       "  </thead>\n",
       "  <tbody>\n",
       "    <tr>\n",
       "      <th>2020-09-21</th>\n",
       "      <td>0.017514</td>\n",
       "      <td>-0.027291</td>\n",
       "      <td>-0.035256</td>\n",
       "    </tr>\n",
       "    <tr>\n",
       "      <th>2020-09-22</th>\n",
       "      <td>0.008867</td>\n",
       "      <td>0.003770</td>\n",
       "      <td>-0.004796</td>\n",
       "    </tr>\n",
       "    <tr>\n",
       "      <th>2020-09-23</th>\n",
       "      <td>-0.034214</td>\n",
       "      <td>0.022069</td>\n",
       "      <td>-0.027786</td>\n",
       "    </tr>\n",
       "    <tr>\n",
       "      <th>2020-09-24</th>\n",
       "      <td>0.032088</td>\n",
       "      <td>-0.007473</td>\n",
       "      <td>0.008368</td>\n",
       "    </tr>\n",
       "    <tr>\n",
       "      <th>2020-09-28</th>\n",
       "      <td>-0.020706</td>\n",
       "      <td>0.002044</td>\n",
       "      <td>-0.038476</td>\n",
       "    </tr>\n",
       "  </tbody>\n",
       "</table>\n",
       "</div>"
      ],
      "text/plain": [
       "            MGLU3.SA  VALE3.SA  PETR4.SA\n",
       "Date                                    \n",
       "2020-09-21  0.017514 -0.027291 -0.035256\n",
       "2020-09-22  0.008867  0.003770 -0.004796\n",
       "2020-09-23 -0.034214  0.022069 -0.027786\n",
       "2020-09-24  0.032088 -0.007473  0.008368\n",
       "2020-09-28 -0.020706  0.002044 -0.038476"
      ]
     },
     "execution_count": 5,
     "metadata": {},
     "output_type": "execute_result"
    }
   ],
   "source": [
    "# Fazendo o log-retorno diário das ações analisadas\n",
    "\n",
    "returns = np.log(mydata / mydata.shift(1))\n",
    "returns.tail()"
   ]
  },
  {
   "cell_type": "code",
   "execution_count": 6,
   "metadata": {},
   "outputs": [],
   "source": [
    "# Ordenação dos retornos em ordem crescente por merge_sort\n",
    "returns_sorted = {}\n",
    "\n",
    "for t in tickers:\n",
    "    returns_sorted[t] = np.sort(returns[t],kind='mergesort')\n",
    "\n",
    "#returns_sorted"
   ]
  },
  {
   "cell_type": "markdown",
   "metadata": {},
   "source": [
    "## Testando se esta ordenado\n",
    "\n",
    "```\n",
    "for t in tickers:\n",
    "    print('Piores 10 resultados ação: %s' %t)\n",
    "    for i in range(10):\n",
    "        print(returns_sorted[t][i])\n",
    "    print('\\n')\n",
    "```"
   ]
  },
  {
   "cell_type": "code",
   "execution_count": 7,
   "metadata": {},
   "outputs": [
    {
     "name": "stdout",
     "output_type": "stream",
     "text": [
      "Coloque o intervalo de confianca: \n",
      "99\n"
     ]
    }
   ],
   "source": [
    "# Definindo intervalo de confianca do V.a.R. ou C.V.a.R.\n",
    "\n",
    "conf = input('Coloque o intervalo de confianca: \\n')\n",
    "desconf = round((1-int(conf)/int(100)),3)\n",
    "#desconf"
   ]
  },
  {
   "cell_type": "code",
   "execution_count": 8,
   "metadata": {},
   "outputs": [],
   "source": [
    "# Descobrindo quantos dados tem para a analise\n",
    "\n",
    "number_of_returns = len(returns)\n",
    "\n",
    "#number_of_returns"
   ]
  },
  {
   "cell_type": "code",
   "execution_count": 9,
   "metadata": {},
   "outputs": [],
   "source": [
    "# Index o qual acaba o intervalo de confiança\n",
    "# A soma acontece pois o retorno de posicao 0 é sempre n.a.n.\n",
    "\n",
    "position_desconf = int(round(number_of_returns*desconf,0))\n",
    "\n",
    "#position_desconf"
   ]
  },
  {
   "cell_type": "code",
   "execution_count": 10,
   "metadata": {},
   "outputs": [],
   "source": [
    "# Soma das piores posicoes fora do intervalo de confiança\n",
    "\n",
    "sum_desconf = {}\n",
    "\n",
    "for t in tickers:\n",
    "    sum_temp=0\n",
    "    for i in range(position_desconf):\n",
    "        sum_temp += returns_sorted[t][i]\n",
    "    sum_desconf[t] = sum_temp\n",
    "    \n",
    "        \n",
    "#sum_desconf"
   ]
  },
  {
   "cell_type": "code",
   "execution_count": 11,
   "metadata": {},
   "outputs": [],
   "source": [
    "# V.a.R.\n",
    "\n",
    "var = {}\n",
    "\n",
    "for t in tickers:\n",
    "    var[t] = returns_sorted[t][position_desconf]\n",
    "\n",
    "#var"
   ]
  },
  {
   "cell_type": "code",
   "execution_count": 12,
   "metadata": {},
   "outputs": [],
   "source": [
    "# C.V.a.R.\n",
    "\n",
    "cvar = {}\n",
    "\n",
    "for t in tickers:\n",
    "    cvar[t] = (1/position_desconf)*sum_desconf[t]\n",
    "    \n",
    "#cvar"
   ]
  },
  {
   "cell_type": "code",
   "execution_count": 13,
   "metadata": {},
   "outputs": [],
   "source": [
    "# Transformando C.V.a.R. em um modo apresentavel\n",
    "\n",
    "cvar_str = {}\n",
    "\n",
    "for t in tickers:\n",
    "    cvar_str[t] = str(np.abs(round(cvar[t]*100,2))) + '%'\n",
    "    \n",
    "#cvar_str"
   ]
  },
  {
   "cell_type": "code",
   "execution_count": 14,
   "metadata": {},
   "outputs": [],
   "source": [
    "# Transformando V.a.R. em um modo apresentavel\n",
    "\n",
    "var_str = {}\n",
    "\n",
    "for t in tickers:\n",
    "    var_str[t] = str(np.abs(round(var[t]*100,2))) + '%'\n",
    "    \n",
    "#var_str"
   ]
  },
  {
   "cell_type": "code",
   "execution_count": 15,
   "metadata": {},
   "outputs": [
    {
     "name": "stdout",
     "output_type": "stream",
     "text": [
      "O V.a.R.(99) da ação MGLU3.SA é: 9.06%\n",
      "O V.a.R.(99) da ação VALE3.SA é: 7.26%\n",
      "O V.a.R.(99) da ação PETR4.SA é: 8.93%\n"
     ]
    }
   ],
   "source": [
    "# Apresentação dos resultados V.a.R.\n",
    "\n",
    "for t in tickers:\n",
    "    print(\"O V.a.R.\" + \"(\"+ \"%s\" %conf + \")\" + \" da ação %s é:\" %t, end=' ')\n",
    "    print(var_str[t])\n",
    "    "
   ]
  },
  {
   "cell_type": "code",
   "execution_count": 16,
   "metadata": {
    "scrolled": false
   },
   "outputs": [
    {
     "name": "stdout",
     "output_type": "stream",
     "text": [
      "O C.V.a.R.(99) da ação MGLU3.SA é: 13.55%\n",
      "O C.V.a.R.(99) da ação VALE3.SA é: 10.84%\n",
      "O C.V.a.R.(99) da ação PETR4.SA é: 13.65%\n"
     ]
    }
   ],
   "source": [
    "# Apresentação dos resultados C.V.a.R.\n",
    "\n",
    "for t in tickers:\n",
    "    print(\"O C.V.a.R.\" + \"(\"+ \"%s\" %conf + \")\" + \" da ação %s é:\" %t, end=' ')\n",
    "    print(cvar_str[t])"
   ]
  },
  {
   "cell_type": "code",
   "execution_count": 17,
   "metadata": {
    "scrolled": false
   },
   "outputs": [
    {
     "data": {
      "image/png": "[encoded data removed]",
      "text/plain": [
       "<Figure size 432x288 with 1 Axes>"
      ]
     },
     "metadata": {
      "needs_background": "light"
     },
     "output_type": "display_data"
    },
    {
     "data": {
      "image/png": "[encoded data removed]",
      "text/plain": [
       "<Figure size 432x288 with 1 Axes>"
      ]
     },
     "metadata": {
      "needs_background": "light"
     },
     "output_type": "display_data"
    },
    {
     "data": {
      "image/png": "[encoded data removed]",
      "text/plain": [
       "<Figure size 432x288 with 1 Axes>"
      ]
     },
     "metadata": {
      "needs_background": "light"
     },
     "output_type": "display_data"
    }
   ],
   "source": [
    "# Representação gráfica do corte do VaR\n",
    "\n",
    "begin = -0.15\n",
    "end = 0.15\n",
    "\n",
    "sep = 90\n",
    "\n",
    "x=[]\n",
    "\n",
    "for i in range(int(sep)+1):\n",
    "    x.append(begin + (i * (end-begin) / sep))\n",
    "    \n",
    "for t in tickers:\n",
    "    plt.hist(returns[t],bins=x)\n",
    "    plt.axvline(x=var[t],color='red', label='Corte do VaR')\n",
    "    #plt.axvline(x=0,color='green', label = 'Eixo 0')\n",
    "    plt.title(t)\n",
    "    plt.legend()\n",
    "    plt.show()"
   ]
  }
 ],
 "metadata": {
  "kernelspec": {
   "display_name": "Python 3",
   "language": "python",
   "name": "python3"
  },
  "language_info": {
   "codemirror_mode": {
    "name": "ipython",
    "version": 3
   },
   "file_extension": ".py",
   "mimetype": "text/x-python",
   "name": "python",
   "nbconvert_exporter": "python",
   "pygments_lexer": "ipython3",
   "version": "3.7.6"
  }
 },
 "nbformat": 4,
 "nbformat_minor": 4
}
