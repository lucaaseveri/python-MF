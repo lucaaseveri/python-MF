{
 "cells": [
  {
   "cell_type": "markdown",
   "metadata": {},
   "source": [
    "# VaR and CVaR by a Parametric Approach (Fisher Expansion)\n",
    "\n",
    "É Necessário:\n",
    "   * Média dos retornos\n",
    "   * Desvio-padrão dos retornos\n",
    "   * w correspondente na curva normal\n",
    "    \n",
    "Fórmula:\n",
    "\n",
    "### $VaR = Média + Desv.P * w$"
   ]
  },
  {
   "cell_type": "markdown",
   "metadata": {},
   "source": [
    "## Nessa abordagem é introduzido o cálculo de kurtosis e skewness da curva\n",
    "\n",
    "## Kurtosis:\n",
    "\n",
    "<img src=\"kurtosis.png\" width=\"800\" height=\"300\">\n",
    "\n",
    "## Skewness:\n",
    "\n",
    "<img src=\"skewness.png\" width=\"800\" height=\"300\">"
   ]
  },
  {
   "cell_type": "markdown",
   "metadata": {},
   "source": [
    "## w para VaR:\n",
    "\n",
    "<img src=\"w_var.png\" width=\"800\" height=\"300\">\n",
    "\n",
    "## w para CVaR:\n",
    "\n",
    "<img src=\"w_cvar.png\" width=\"800\" height=\"300\">"
   ]
  },
  {
   "cell_type": "code",
   "execution_count": 19,
   "metadata": {},
   "outputs": [],
   "source": [
    "import scipy.stats as stats\n",
    "from scipy.stats import skewnorm\n",
    "import numpy as np\n",
    "import pandas as pd\n",
    "from pandas_datareader import data as wb\n",
    "import matplotlib.pyplot as plt\n",
    "import scipy.stats as st"
   ]
  },
  {
   "cell_type": "markdown",
   "metadata": {},
   "source": [
    "## Puxando as companhias listadas no Ibovespa\n",
    "\n",
    "```\n",
    "table=pd.read_html('https://en.wikipedia.org/wiki/List_of_companies_listed_on_Ibovespa')\n",
    "tickers = table[0]['Ticker']\n",
    "\n",
    "for i in range(len(tickers)):\n",
    "    tickers[i] += '.SA'\n",
    "    \n",
    "tickers\n",
    "```"
   ]
  },
  {
   "cell_type": "code",
   "execution_count": 2,
   "metadata": {
    "scrolled": true
   },
   "outputs": [
    {
     "name": "stdout",
     "output_type": "stream",
     "text": [
      "Insira as ações para analise: \n",
      "MGLU3.SA\n",
      "Digite 0 para parar\n",
      "Insira as ações para analise: \n",
      "VALE3.SA\n",
      "Digite 0 para parar\n",
      "Insira as ações para analise: \n",
      "PETR4.SA\n",
      "Digite 0 para parar\n",
      "Insira as ações para analise: \n",
      "0\n",
      "Digite 0 para parar\n"
     ]
    }
   ],
   "source": [
    "# Input pelo teclado\n",
    "\n",
    "#```\n",
    "tickers = []\n",
    "x='...'\n",
    "\n",
    "while(x!='0'):\n",
    "    x = str(input('Insira as ações para analise: \\n'))\n",
    "    print('Digite 0 para parar')\n",
    "    if(x!='0'):\n",
    "        tickers.append(x)\n",
    "#```"
   ]
  },
  {
   "cell_type": "code",
   "execution_count": 3,
   "metadata": {},
   "outputs": [],
   "source": [
    "# Puxando valores históricos das ações a serem analisadas\n",
    "\n",
    "\n",
    "mydata = pd.DataFrame()\n",
    "\n",
    "for t in tickers:\n",
    "    mydata[t] = wb.DataReader(t, data_source='yahoo', start='2008-4-20')['Adj Close']\n",
    "    \n",
    "#mydata.head()"
   ]
  },
  {
   "cell_type": "code",
   "execution_count": 4,
   "metadata": {},
   "outputs": [],
   "source": [
    "# Fazendo o log-retorno diário das ações analisadas\n",
    "\n",
    "returns = np.log(mydata / mydata.shift(1))\n",
    "\n",
    "#returns.head()"
   ]
  },
  {
   "cell_type": "code",
   "execution_count": 5,
   "metadata": {},
   "outputs": [
    {
     "data": {
      "text/plain": [
       "MGLU3.SA    0.20\n",
       "VALE3.SA    0.02\n",
       "PETR4.SA   -0.00\n",
       "dtype: float64"
      ]
     },
     "execution_count": 5,
     "metadata": {},
     "output_type": "execute_result"
    }
   ],
   "source": [
    "# Tirando a média dos valores\n",
    "\n",
    "media = returns.mean()\n",
    "\n",
    "round(media.head()*100,2)"
   ]
  },
  {
   "cell_type": "code",
   "execution_count": 6,
   "metadata": {},
   "outputs": [],
   "source": [
    "# Tirando o desvio padrão dos valores\n",
    "\n",
    "std_d = np.std(returns, ddof=1)\n",
    "\n",
    "#std_d"
   ]
  },
  {
   "cell_type": "code",
   "execution_count": 7,
   "metadata": {},
   "outputs": [
    {
     "name": "stdout",
     "output_type": "stream",
     "text": [
      "Coloque o intervalo de confianca: \n",
      "99\n"
     ]
    }
   ],
   "source": [
    "# Definindo intervalo de confianca do V.a.R. ou C.V.a.R.\n",
    "\n",
    "conf = input('Coloque o intervalo de confianca: \\n')\n",
    "conf = int(conf)\n",
    "desconf = round((1-conf/int(100)),3)\n",
    "\n",
    "#desconf"
   ]
  },
  {
   "cell_type": "code",
   "execution_count": 8,
   "metadata": {},
   "outputs": [],
   "source": [
    "# Pegando o z da curva normal para o intervalo de confiança\n",
    "\n",
    "z = st.norm.ppf(desconf)\n",
    "\n",
    "#z"
   ]
  },
  {
   "cell_type": "code",
   "execution_count": 9,
   "metadata": {},
   "outputs": [
    {
     "data": {
      "text/plain": [
       "array([[<matplotlib.axes._subplots.AxesSubplot object at 0x000001F3F3D2BFC8>,\n",
       "        <matplotlib.axes._subplots.AxesSubplot object at 0x000001F3F395F908>],\n",
       "       [<matplotlib.axes._subplots.AxesSubplot object at 0x000001F3F3946948>,\n",
       "        <matplotlib.axes._subplots.AxesSubplot object at 0x000001F3F39CFA88>]],\n",
       "      dtype=object)"
      ]
     },
     "execution_count": 9,
     "metadata": {},
     "output_type": "execute_result"
    },
    {
     "data": {
      "image/png": "[encoded data removed]",
      "text/plain": [
       "<Figure size 432x288 with 4 Axes>"
      ]
     },
     "metadata": {
      "needs_background": "light"
     },
     "output_type": "display_data"
    }
   ],
   "source": [
    "# Pegando a Kurtosis e a Skewness da curva\n",
    "\n",
    "kurt = returns.kurtosis()-3\n",
    "skew = returns.skew()\n",
    "\n",
    "returns.hist()"
   ]
  },
  {
   "cell_type": "code",
   "execution_count": 10,
   "metadata": {
    "scrolled": true
   },
   "outputs": [],
   "source": [
    "# Calculando o w(VaR)\n",
    "\n",
    "w_var = z + (pow(z,2)-1)*(skew/6) + (z)*(pow(z,2)-3)*(kurt/24) - (z)*(2*pow(z,2)-5)*(pow(skew,2)/36)\n",
    "\n",
    "#w_var"
   ]
  },
  {
   "cell_type": "code",
   "execution_count": 11,
   "metadata": {},
   "outputs": [],
   "source": [
    "# Caluclando o w(CVaR)\n",
    "\n",
    "temp = (-0.5)*pow(z,2)\n",
    "\n",
    "w_cvar = (1/desconf)*(1/np.sqrt(2*np.pi))*(np.exp(temp))*(1 + (z*(skew/6)) + (1-2*pow(z,2))*(pow(skew,2)/36) + (-1+pow(z,2))*(kurt/24))\n",
    "\n",
    "#w_cvar"
   ]
  },
  {
   "cell_type": "code",
   "execution_count": 12,
   "metadata": {
    "scrolled": true
   },
   "outputs": [],
   "source": [
    "# Calculando o V.a.R.\n",
    "\n",
    "var = media + std_d * w_var\n",
    "\n",
    "#var"
   ]
  },
  {
   "cell_type": "code",
   "execution_count": 13,
   "metadata": {},
   "outputs": [],
   "source": [
    "# Calculando o C.V.a.R.\n",
    "\n",
    "cvar = media + std_d * w_cvar\n",
    "\n",
    "#cvar"
   ]
  },
  {
   "cell_type": "code",
   "execution_count": 14,
   "metadata": {},
   "outputs": [],
   "source": [
    "# Transformando V.a.R. em um modo apresentavel\n",
    "\n",
    "var_str = {}\n",
    "\n",
    "for t in tickers:\n",
    "    var_str[t] = str(np.abs(round(var[t]*100,2))) + '%'\n",
    "    \n",
    "#var_str"
   ]
  },
  {
   "cell_type": "code",
   "execution_count": 15,
   "metadata": {},
   "outputs": [],
   "source": [
    "# Transformando C.V.a.R. em um modo apresentavel\n",
    "\n",
    "cvar_str = {}\n",
    "\n",
    "for t in tickers:\n",
    "    cvar_str[t] = str(np.abs(round(cvar[t]*100,2))) + '%'\n",
    "    \n",
    "#cvar_str"
   ]
  },
  {
   "cell_type": "code",
   "execution_count": 16,
   "metadata": {},
   "outputs": [
    {
     "name": "stdout",
     "output_type": "stream",
     "text": [
      "O V.a.R.(99) da ação MGLU3.SA é: 12.31%\n",
      "O V.a.R.(99) da ação VALE3.SA é: 10.55%\n",
      "O V.a.R.(99) da ação PETR4.SA é: 14.76%\n"
     ]
    }
   ],
   "source": [
    "# Apresentação dos resultados V.a.R.\n",
    "\n",
    "for t in tickers:\n",
    "    print(\"O V.a.R.\" + \"(\"+ \"%s\" %conf + \")\" + \" da ação %s é:\" %t, end=' ')\n",
    "    print(var_str[t])\n"
   ]
  },
  {
   "cell_type": "code",
   "execution_count": 17,
   "metadata": {},
   "outputs": [
    {
     "name": "stdout",
     "output_type": "stream",
     "text": [
      "O C.V.a.R.(99) da ação MGLU3.SA é: 20.24%\n",
      "O C.V.a.R.(99) da ação VALE3.SA é: 15.56%\n",
      "O C.V.a.R.(99) da ação PETR4.SA é: 22.78%\n"
     ]
    }
   ],
   "source": [
    "# Apresentação dos resultados C.V.a.R.\n",
    "\n",
    "for t in tickers:\n",
    "    print(\"O C.V.a.R.\" + \"(\"+ \"%s\" %conf + \")\" + \" da ação %s é:\" %t, end=' ')\n",
    "    print(cvar_str[t])"
   ]
  },
  {
   "cell_type": "code",
   "execution_count": 18,
   "metadata": {},
   "outputs": [
    {
     "data": {
      "image/png": "[encoded data removed]",
      "text/plain": [
       "<Figure size 432x288 with 1 Axes>"
      ]
     },
     "metadata": {
      "needs_background": "light"
     },
     "output_type": "display_data"
    },
    {
     "data": {
      "image/png": "[encoded data removed]",
      "text/plain": [
       "<Figure size 432x288 with 1 Axes>"
      ]
     },
     "metadata": {
      "needs_background": "light"
     },
     "output_type": "display_data"
    },
    {
     "data": {
      "image/png": "[encoded data removed]",
      "text/plain": [
       "<Figure size 432x288 with 1 Axes>"
      ]
     },
     "metadata": {
      "needs_background": "light"
     },
     "output_type": "display_data"
    }
   ],
   "source": [
    "# Representação gráfica do corte do VaR\n",
    "\n",
    "begin = -0.15\n",
    "end = 0.15\n",
    "\n",
    "sep = 90\n",
    "\n",
    "x=[]\n",
    "\n",
    "for i in range(int(sep)+1):\n",
    "    x.append(begin + (i * (end-begin) / sep))\n",
    "    \n",
    "for t in tickers:\n",
    "    plt.hist(returns[t],bins=x)\n",
    "    plt.axvline(x=var[t],color='red', label='Corte do VaR')\n",
    "    #plt.axvline(x=0,color='green', label = 'Eixo 0')\n",
    "    plt.title(t)\n",
    "    plt.legend()\n",
    "    plt.show()"
   ]
  }
 ],
 "metadata": {
  "kernelspec": {
   "display_name": "Python 3",
   "language": "python",
   "name": "python3"
  },
  "language_info": {
   "codemirror_mode": {
    "name": "ipython",
    "version": 3
   },
   "file_extension": ".py",
   "mimetype": "text/x-python",
   "name": "python",
   "nbconvert_exporter": "python",
   "pygments_lexer": "ipython3",
   "version": "3.7.6"
  }
 },
 "nbformat": 4,
 "nbformat_minor": 4
}
