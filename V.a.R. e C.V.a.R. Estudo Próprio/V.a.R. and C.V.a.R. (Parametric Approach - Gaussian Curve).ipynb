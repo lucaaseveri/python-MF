{
 "cells": [
  {
   "cell_type": "markdown",
   "metadata": {},
   "source": [
    "# VaR and CVaR by a Parametric Approach\n",
    "\n",
    "É Necessário:\n",
    "   * Média dos retornos\n",
    "   * Desvio-padrão dos retornos\n",
    "   * z correspondente na curva normal\n",
    "    \n",
    "Fórmula:\n",
    "\n",
    "### $$VaR = Media + Desv.P * z$$"
   ]
  },
  {
   "cell_type": "code",
   "execution_count": 17,
   "metadata": {
    "scrolled": true
   },
   "outputs": [],
   "source": [
    "import numpy as np\n",
    "import pandas as pd\n",
    "from pandas_datareader import data as wb\n",
    "import matplotlib.pyplot as plt\n",
    "import scipy.stats as st"
   ]
  },
  {
   "cell_type": "markdown",
   "metadata": {},
   "source": [
    "## Puxando as companhias listadas no Ibovespa\n",
    "\n",
    "```\n",
    "table=pd.read_html('https://en.wikipedia.org/wiki/List_of_companies_listed_on_Ibovespa')\n",
    "tickers = table[0]['Ticker']\n",
    "\n",
    "for i in range(len(tickers)):\n",
    "    tickers[i] += '.SA'\n",
    "    \n",
    "tickers\n",
    "```"
   ]
  },
  {
   "cell_type": "code",
   "execution_count": 2,
   "metadata": {},
   "outputs": [
    {
     "name": "stdout",
     "output_type": "stream",
     "text": [
      "Insira as ações para analise: \n",
      "MGLU3.SA\n",
      "Digite 0 para parar\n",
      "Insira as ações para analise: \n",
      "VALE3.SA\n",
      "Digite 0 para parar\n",
      "Insira as ações para analise: \n",
      "PETR4.SA\n",
      "Digite 0 para parar\n",
      "Insira as ações para analise: \n",
      "0\n",
      "Digite 0 para parar\n"
     ]
    }
   ],
   "source": [
    "# Input pelo teclado\n",
    "\n",
    "#```\n",
    "tickers = []\n",
    "x='...'\n",
    "\n",
    "while(x!='0'):\n",
    "    x = str(input('Insira as ações para analise: \\n'))\n",
    "    print('Digite 0 para parar')\n",
    "    if(x!='0'):\n",
    "        tickers.append(x)\n",
    "#```"
   ]
  },
  {
   "cell_type": "code",
   "execution_count": 3,
   "metadata": {},
   "outputs": [],
   "source": [
    "# Puxando valores históricos das ações a serem analisadas\n",
    "\n",
    "\n",
    "mydata = pd.DataFrame()\n",
    "\n",
    "for t in tickers:\n",
    "    mydata[t] = wb.DataReader(t, data_source='yahoo', start='2008-4-20')['Adj Close']\n",
    "    \n",
    "#mydata.head()"
   ]
  },
  {
   "cell_type": "code",
   "execution_count": 4,
   "metadata": {
    "scrolled": false
   },
   "outputs": [],
   "source": [
    "# Fazendo o log-retorno diário das ações analisadas\n",
    "\n",
    "returns = np.log(mydata / mydata.shift(1))\n",
    "\n",
    "#returns.head()"
   ]
  },
  {
   "cell_type": "code",
   "execution_count": 5,
   "metadata": {
    "scrolled": true
   },
   "outputs": [],
   "source": [
    "# Tirando a média dos valores\n",
    "\n",
    "media = returns.mean()\n",
    "\n",
    "#media.head(10)"
   ]
  },
  {
   "cell_type": "code",
   "execution_count": 6,
   "metadata": {
    "scrolled": false
   },
   "outputs": [],
   "source": [
    "# Tirando o desvio padrão dos valores\n",
    "\n",
    "std_d = np.std(returns, ddof=1)\n",
    "\n",
    "#std_d"
   ]
  },
  {
   "cell_type": "code",
   "execution_count": 7,
   "metadata": {},
   "outputs": [
    {
     "name": "stdout",
     "output_type": "stream",
     "text": [
      "Coloque o intervalo de confianca: \n",
      "99\n"
     ]
    }
   ],
   "source": [
    "# Definindo intervalo de confianca do V.a.R. ou C.V.a.R.\n",
    "\n",
    "conf = input('Coloque o intervalo de confianca: \\n')\n",
    "conf = int(conf)\n",
    "desconf = round((1-conf/int(100)),3)\n",
    "\n",
    "#desconf"
   ]
  },
  {
   "cell_type": "code",
   "execution_count": 8,
   "metadata": {},
   "outputs": [],
   "source": [
    "# Pegando o z da curva normal para o intervalo de confiança\n",
    "\n",
    "z = st.norm.ppf(desconf)\n",
    "\n",
    "#z"
   ]
  },
  {
   "cell_type": "markdown",
   "metadata": {},
   "source": [
    "### $$z(cvar) = \\frac{1}{desconf}  \\frac{1}{\\sqrt{2*\\pi}}  e^{\\frac{-1}{2}z^2}$$"
   ]
  },
  {
   "cell_type": "code",
   "execution_count": 9,
   "metadata": {},
   "outputs": [],
   "source": [
    "# Pegando o z para o C.V.a.R\n",
    "\n",
    "temp = -0.5*pow(z,2)\n",
    "\n",
    "zcvar = ((1/desconf) * (1/np.sqrt(2*np.pi)) * np.exp(temp))*(-1)\n",
    "\n",
    "#zcvar"
   ]
  },
  {
   "cell_type": "code",
   "execution_count": 10,
   "metadata": {},
   "outputs": [],
   "source": [
    "# Calculando o V.a.R.\n",
    "\n",
    "var = media + std_d * z\n",
    "\n",
    "#var"
   ]
  },
  {
   "cell_type": "code",
   "execution_count": 11,
   "metadata": {
    "scrolled": true
   },
   "outputs": [],
   "source": [
    "# Calculando o V.a.R.\n",
    "\n",
    "cvar = media + std_d * zcvar\n",
    "\n",
    "#cvar"
   ]
  },
  {
   "cell_type": "code",
   "execution_count": 12,
   "metadata": {},
   "outputs": [],
   "source": [
    "# Transformando V.a.R. em um modo apresentavel\n",
    "\n",
    "var_str = {}\n",
    "\n",
    "for t in tickers:\n",
    "    var_str[t] = str(np.abs(round(var[t]*100,2))) + '%'\n",
    "    \n",
    "#var_str"
   ]
  },
  {
   "cell_type": "code",
   "execution_count": 13,
   "metadata": {},
   "outputs": [],
   "source": [
    "# Transformando C.V.a.R. em um modo apresentavel\n",
    "\n",
    "cvar_str = {}\n",
    "\n",
    "for t in tickers:\n",
    "    cvar_str[t] = str(np.abs(round(cvar[t]*100,2))) + '%'\n",
    "    \n",
    "#cvar_str"
   ]
  },
  {
   "cell_type": "code",
   "execution_count": 14,
   "metadata": {
    "scrolled": false
   },
   "outputs": [
    {
     "name": "stdout",
     "output_type": "stream",
     "text": [
      "O V.a.R.(99) da ação MGLU3.SA é: 8.73%\n",
      "O V.a.R.(99) da ação VALE3.SA é: 6.48%\n",
      "O V.a.R.(99) da ação PETR4.SA é: 7.3%\n"
     ]
    }
   ],
   "source": [
    "# Apresentação dos resultados V.a.R.\n",
    "\n",
    "for t in tickers:\n",
    "    print(\"O V.a.R.\" + \"(\"+ \"%s\" %conf + \")\" + \" da ação %s é:\" %t, end=' ')\n",
    "    print(var_str[t])\n"
   ]
  },
  {
   "cell_type": "code",
   "execution_count": 15,
   "metadata": {},
   "outputs": [
    {
     "name": "stdout",
     "output_type": "stream",
     "text": [
      "O C.V.a.R.(99) da ação MGLU3.SA é: 10.03%\n",
      "O C.V.a.R.(99) da ação VALE3.SA é: 7.43%\n",
      "O C.V.a.R.(99) da ação PETR4.SA é: 8.36%\n"
     ]
    }
   ],
   "source": [
    "# Apresentação dos resultados C.V.a.R.\n",
    "\n",
    "for t in tickers:\n",
    "    print(\"O C.V.a.R.\" + \"(\"+ \"%s\" %conf + \")\" + \" da ação %s é:\" %t, end=' ')\n",
    "    print(cvar_str[t])"
   ]
  },
  {
   "cell_type": "code",
   "execution_count": 16,
   "metadata": {
    "scrolled": false
   },
   "outputs": [
    {
     "data": {
      "image/png": "[encoded data removed]",
      "text/plain": [
       "<Figure size 432x288 with 1 Axes>"
      ]
     },
     "metadata": {
      "needs_background": "light"
     },
     "output_type": "display_data"
    },
    {
     "data": {
      "image/png": "[encoded data removed]",
      "text/plain": [
       "<Figure size 432x288 with 1 Axes>"
      ]
     },
     "metadata": {
      "needs_background": "light"
     },
     "output_type": "display_data"
    },
    {
     "data": {
      "image/png": "[encoded data removed]",
      "text/plain": [
       "<Figure size 432x288 with 1 Axes>"
      ]
     },
     "metadata": {
      "needs_background": "light"
     },
     "output_type": "display_data"
    }
   ],
   "source": [
    "# Representação gráfica do corte do VaR\n",
    "\n",
    "begin = -0.15\n",
    "end = 0.15\n",
    "\n",
    "sep = 90\n",
    "\n",
    "x=[]\n",
    "\n",
    "for i in range(int(sep)+1):\n",
    "    x.append(begin + (i * (end-begin) / sep))\n",
    "    \n",
    "for t in tickers:\n",
    "    plt.hist(returns[t],bins=x)\n",
    "    plt.axvline(x=var[t],color='red', label='Corte do VaR')\n",
    "    #plt.axvline(x=0,color='green', label = 'Eixo 0')\n",
    "    plt.title(t)\n",
    "    plt.legend()\n",
    "    plt.show()"
   ]
  }
 ],
 "metadata": {
  "kernelspec": {
   "display_name": "Python 3",
   "language": "python",
   "name": "python3"
  },
  "language_info": {
   "codemirror_mode": {
    "name": "ipython",
    "version": 3
   },
   "file_extension": ".py",
   "mimetype": "text/x-python",
   "name": "python",
   "nbconvert_exporter": "python",
   "pygments_lexer": "ipython3",
   "version": "3.7.6"
  }
 },
 "nbformat": 4,
 "nbformat_minor": 4
}
