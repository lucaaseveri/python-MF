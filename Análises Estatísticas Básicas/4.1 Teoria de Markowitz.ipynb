{
 "cells": [
  {
   "cell_type": "markdown",
   "metadata": {},
   "source": [
    "# Teoria de Markowits\n",
    "\n",
    "O foco da teoria é otimizar o portifolio baseado no risco x retorno.\n",
    "\n",
    "Quanto mais proxima de 0 a correlacao dos ativos for, menos risco você tem.\n",
    "\n",
    "Então o ideal é pegar os melhores ativos com correlacao 0 entre eles."
   ]
  },
  {
   "cell_type": "markdown",
   "metadata": {},
   "source": [
    "## Parte 1 - Importando e Cálculos base"
   ]
  },
  {
   "cell_type": "code",
   "execution_count": 16,
   "metadata": {},
   "outputs": [],
   "source": [
    "import numpy as np\n",
    "import pandas as pd\n",
    "from pandas_datareader import data as wb\n",
    "import matplotlib.pyplot as plt\n",
    "%matplotlib inline"
   ]
  },
  {
   "cell_type": "code",
   "execution_count": 2,
   "metadata": {},
   "outputs": [],
   "source": [
    "# Importando o data base\n",
    "\n",
    "tickers = ['BTOW3.SA', 'MGLU3.SA']\n",
    "start_period = '2012-7-1'\n",
    "\n",
    "pf_data = pd.DataFrame()\n",
    "\n",
    "for a in tickers:\n",
    "    pf_data[a] = wb.DataReader(a, data_source='yahoo', start=start_period)['Adj Close']"
   ]
  },
  {
   "cell_type": "code",
   "execution_count": 3,
   "metadata": {},
   "outputs": [],
   "source": [
    "# pf_data.tail()"
   ]
  },
  {
   "cell_type": "code",
   "execution_count": 4,
   "metadata": {},
   "outputs": [],
   "source": [
    "# Normalizando os dados\n",
    "\n",
    "\n",
    "# (pf_data / pf_data.iloc[0]*100).plot(figsize=(10,5))"
   ]
  },
  {
   "cell_type": "code",
   "execution_count": 5,
   "metadata": {
    "scrolled": true
   },
   "outputs": [],
   "source": [
    "# Pegando os log retornos diários\n",
    "\n",
    "log_returns = np.log(pf_data / pf_data.shift(1))\n",
    "\n",
    "# log_returns.mean()"
   ]
  },
  {
   "cell_type": "code",
   "execution_count": 6,
   "metadata": {},
   "outputs": [],
   "source": [
    "# Criando a matriz de covariância\n",
    "\n",
    "# log_returns.cov()"
   ]
  },
  {
   "cell_type": "code",
   "execution_count": 7,
   "metadata": {},
   "outputs": [],
   "source": [
    "# Capturando o numero de ações no portifolio\n",
    "\n",
    "num_assets = len(tickers)\n",
    "\n",
    "# num_assets"
   ]
  },
  {
   "cell_type": "code",
   "execution_count": 8,
   "metadata": {
    "scrolled": true
   },
   "outputs": [],
   "source": [
    "# Criando 2 valores entre 0 e 1 e que a soma é 1\n",
    "\n",
    "# pesos = np.random.random(num_assets)\n",
    "# pesos /= np.sum(pesos)\n",
    "# pesos"
   ]
  },
  {
   "cell_type": "code",
   "execution_count": 9,
   "metadata": {},
   "outputs": [],
   "source": [
    "# Plotando um ponto especifico\n",
    "\n",
    "#peso_teste = np.array([0.2733, 0.4470, 0.2449, 0.0348])\n",
    "#return_teste = np.sum(peso_teste*log_returns.mean()*250)\n",
    "#risco_teste = np.sqrt(np.dot(peso_teste.T, np.dot(log_returns.cov()*250, peso_teste)))"
   ]
  },
  {
   "cell_type": "markdown",
   "metadata": {},
   "source": [
    "## Parte 2"
   ]
  },
  {
   "cell_type": "markdown",
   "metadata": {},
   "source": [
    "#### Taxa de retorno esperada para o portifólio"
   ]
  },
  {
   "cell_type": "code",
   "execution_count": 10,
   "metadata": {},
   "outputs": [],
   "source": [
    "# np.sum(pesos*log_returns.mean()) * 250"
   ]
  },
  {
   "cell_type": "markdown",
   "metadata": {},
   "source": [
    "#### Variância do portifólio esperada"
   ]
  },
  {
   "cell_type": "code",
   "execution_count": 11,
   "metadata": {},
   "outputs": [],
   "source": [
    "# np.dot(pesos.T, np.dot(log_returns.cov()*250, pesos))"
   ]
  },
  {
   "cell_type": "markdown",
   "metadata": {},
   "source": [
    "#### Volatilidade do portifólio esperada"
   ]
  },
  {
   "cell_type": "code",
   "execution_count": 12,
   "metadata": {},
   "outputs": [],
   "source": [
    "# np.sqrt(np.dot(pesos.T, np.dot(log_returns.cov()*250, pesos)))"
   ]
  },
  {
   "cell_type": "code",
   "execution_count": 13,
   "metadata": {
    "scrolled": false
   },
   "outputs": [
    {
     "name": "stdout",
     "output_type": "stream",
     "text": [
      "O peso de menor risco é:\n",
      "- BTOW3.SA: 51.01%.\n",
      "- MGLU3.SA: 48.99%.\n"
     ]
    },
    {
     "data": {
      "image/png": "[encoded data removed]",
      "text/plain": [
       "<Figure size 432x288 with 1 Axes>"
      ]
     },
     "metadata": {
      "needs_background": "light"
     },
     "output_type": "display_data"
    }
   ],
   "source": [
    "# Fazendo 1000 simulações variando os pesos\n",
    "\n",
    "port_returns = []\n",
    "port_risk = []\n",
    "num_testes = 1000\n",
    "\n",
    "best_risk = 100\n",
    "\n",
    "for i in range(num_testes):\n",
    "    # variação dos pesos\n",
    "    pesos = np.random.random(num_assets)\n",
    "    pesos /= np.sum(pesos)\n",
    "    \n",
    "    # capturando os dados risco x retorno para o grafico\n",
    "    risk = np.sqrt(np.dot(pesos.T, np.dot(log_returns.cov()*250, pesos)))\n",
    "    port_returns.append(np.sum(pesos*log_returns.mean()*250))\n",
    "    port_risk.append(risk)\n",
    "    \n",
    "    # capturando o ponto de flexão da carteira (menor risco)\n",
    "    if((best_risk > risk)):\n",
    "        best_risk = risk\n",
    "        front_pesos = pesos\n",
    "\n",
    "# plotando o ponto de flexão da carteira\n",
    "best_return = np.sum(front_pesos*log_returns.mean()*250)\n",
    "\n",
    "# Transformando lista em array\n",
    "\n",
    "port_returns = np.array(port_returns)\n",
    "port_risk = np.array(port_risk)\n",
    "\n",
    "print(\"O peso de menor risco é:\")\n",
    "for i in range(num_assets):\n",
    "    print(\"- \" + tickers[i] + \": \" + str(round(front_pesos[i]*100,2)) + \"%.\")\n",
    "    \n",
    "plt.scatter(port_risk,port_returns)\n",
    "plt.rcParams[\"figure.figsize\"] = (10,5)\n",
    "plt.xlabel(\"Risk\")\n",
    "plt.ylabel(\"Return\")\n",
    "plt.axvline(x=best_risk,color='red', linestyle='-', label='fronteira eficiente')\n",
    "plt.axhline(y=best_return, color='red', linestyle='-')\n",
    "plt.show()"
   ]
  },
  {
   "cell_type": "code",
   "execution_count": 14,
   "metadata": {},
   "outputs": [],
   "source": [
    "# Tranformando os dados em um data frame\n",
    "\n",
    "# port_info = pd.DataFrame({'Return': port_returns, 'Risk': port_risk})\n",
    "\n",
    "# port_info.head()"
   ]
  },
  {
   "cell_type": "code",
   "execution_count": 15,
   "metadata": {},
   "outputs": [],
   "source": [
    "# Plotando de uma forma diferente\n",
    "\n",
    "# port_info.plot(x='Risk', y='Return', kind='scatter', figsize=(10,5))\n",
    "# plt.xlabel(\"Risk\")\n",
    "# plt.ylabel(\"Return\")"
   ]
  }
 ],
 "metadata": {
  "kernelspec": {
   "display_name": "Python 3",
   "language": "python",
   "name": "python3"
  },
  "language_info": {
   "codemirror_mode": {
    "name": "ipython",
    "version": 3
   },
   "file_extension": ".py",
   "mimetype": "text/x-python",
   "name": "python",
   "nbconvert_exporter": "python",
   "pygments_lexer": "ipython3",
   "version": "3.7.6"
  }
 },
 "nbformat": 4,
 "nbformat_minor": 4
}
