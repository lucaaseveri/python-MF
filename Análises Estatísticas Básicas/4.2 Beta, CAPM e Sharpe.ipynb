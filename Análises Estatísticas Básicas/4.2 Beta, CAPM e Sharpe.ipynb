{
 "cells": [
  {
   "cell_type": "markdown",
   "metadata": {},
   "source": [
    "# Importação de dados"
   ]
  },
  {
   "cell_type": "code",
   "execution_count": null,
   "metadata": {},
   "outputs": [],
   "source": [
    "import numpy as np\n",
    "import pandas as pd\n",
    "from pandas_datareader import data as wb"
   ]
  },
  {
   "cell_type": "code",
   "execution_count": null,
   "metadata": {},
   "outputs": [],
   "source": [
    "tickers = ['PG', '^GSPC']\n",
    "data = pd.DataFrame()\n",
    "for t in tickers:\n",
    "    data[t] = wb.DataReader(t, data_source = 'yahoo', start='2012-1-1', end='2016-12-31')['Adj Close']"
   ]
  },
  {
   "cell_type": "markdown",
   "metadata": {},
   "source": [
    "# Calculando o Beta:\n",
    "\n",
    "$$B_a = \\frac {covar(a,m)}{var(m)}$$"
   ]
  },
  {
   "cell_type": "code",
   "execution_count": null,
   "metadata": {},
   "outputs": [],
   "source": [
    "# Retorno logaritmico\n",
    "\n",
    "sec_returns = np.log(data / data.shift(1))"
   ]
  },
  {
   "cell_type": "code",
   "execution_count": null,
   "metadata": {
    "scrolled": true
   },
   "outputs": [],
   "source": [
    "# Matriz de covariância\n",
    "\n",
    "cov = sec_returns.cov() * 250\n",
    "cov"
   ]
  },
  {
   "cell_type": "code",
   "execution_count": null,
   "metadata": {},
   "outputs": [],
   "source": [
    "# Pegando a covariância do ativo em relação ao mercado\n",
    "\n",
    "cov_with_market = cov.iloc[0,1]\n",
    "cov_with_market"
   ]
  },
  {
   "cell_type": "code",
   "execution_count": null,
   "metadata": {},
   "outputs": [],
   "source": [
    "# Pegando a variância do mercado\n",
    "\n",
    "market_var = sec_returns['^GSPC'].var()*250\n",
    "market_var"
   ]
  },
  {
   "cell_type": "code",
   "execution_count": null,
   "metadata": {},
   "outputs": [],
   "source": [
    "# Cálculo do beta\n",
    "\n",
    "beta_pg = cov_with_market / market_var\n",
    "\n",
    "beta_pg"
   ]
  },
  {
   "cell_type": "markdown",
   "metadata": {},
   "source": [
    "# Calculando o CAPM:\n",
    "\n",
    "$$r_a = r_f + B_a*(r_m - r_f)$$"
   ]
  },
  {
   "cell_type": "code",
   "execution_count": null,
   "metadata": {},
   "outputs": [],
   "source": [
    "# r(f) = 0.025, prêmio = 0.05\n",
    "r_f = 0.025\n",
    "premio = 0.05\n",
    "\n",
    "r_pg = r_f + beta_pg*premio\n",
    "r_pg"
   ]
  },
  {
   "cell_type": "markdown",
   "metadata": {},
   "source": [
    "# Calculando o Sharpe:\n",
    "\n",
    "$$Sharpe = \\frac{r_a - r_f}{std_a}$$"
   ]
  },
  {
   "cell_type": "code",
   "execution_count": null,
   "metadata": {},
   "outputs": [],
   "source": [
    "sharpe_pg = (r_pg - r_f) / (sec_returns['PG'].std()*250**0.5)\n",
    "\n",
    "sharpe_pg"
   ]
  },
  {
   "cell_type": "markdown",
   "metadata": {},
   "source": [
    "# Interpretação do Alfa\n",
    "\n",
    "O alfa é o quanto você conseguiria a mais de investimento nessa ação.\n",
    "\n",
    "$$r_a = r_f + B_a * (r_m - r_f) + alfa$$"
   ]
  }
 ],
 "metadata": {
  "kernelspec": {
   "display_name": "Python 3",
   "language": "python",
   "name": "python3"
  },
  "language_info": {
   "codemirror_mode": {
    "name": "ipython",
    "version": 3
   },
   "file_extension": ".py",
   "mimetype": "text/x-python",
   "name": "python",
   "nbconvert_exporter": "python",
   "pygments_lexer": "ipython3",
   "version": "3.7.6"
  }
 },
 "nbformat": 4,
 "nbformat_minor": 4
}
