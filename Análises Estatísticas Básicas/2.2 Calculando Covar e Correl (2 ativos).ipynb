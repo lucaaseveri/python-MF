{
 "cells": [
  {
   "cell_type": "markdown",
   "metadata": {},
   "source": [
    "### $Correl = (x - media_x) * (y - media_y) / (std_x * std_y)$\n",
    "\n",
    "Mede o quanto uma variável sobre ou desce de acordo com a outra\n",
    "\n",
    "   * Correl < 0 : Hedge\n",
    "   * Correl = 0 : Diversificação (ativos independentes)\n",
    "   * Correl > 0 : Ativos Ligados"
   ]
  },
  {
   "cell_type": "markdown",
   "metadata": {},
   "source": [
    "### Covar = (x - media(x)) * (y - media(y)) / n - 1\n",
    "\n",
    "Mede quantas vezes uma variável se move na mesma direção que a outra\n",
    "\n",
    "   * Obs: a covar de uma variável em relação a ela mesma, é a variância dela\n",
    "   * Covar(x,x) = Var(x)"
   ]
  },
  {
   "cell_type": "code",
   "execution_count": 2,
   "metadata": {},
   "outputs": [],
   "source": [
    "import numpy as np\n",
    "import pandas as pd\n",
    "from pandas_datareader import data as wb\n",
    "import matplotlib.pyplot as plt"
   ]
  },
  {
   "cell_type": "code",
   "execution_count": 89,
   "metadata": {},
   "outputs": [],
   "source": [
    "tickers = ['PETR4.SA', 'GOLL4.SA']\n",
    "\n",
    "sec_data = pd.DataFrame()\n",
    "\n",
    "for t in tickers:\n",
    "        sec_data[t] = wb.DataReader(t, data_source='yahoo', start='2005-1-1')['Adj Close']"
   ]
  },
  {
   "cell_type": "code",
   "execution_count": 90,
   "metadata": {},
   "outputs": [
    {
     "data": {
      "text/html": [
       "<div>\n",
       "<style scoped>\n",
       "    .dataframe tbody tr th:only-of-type {\n",
       "        vertical-align: middle;\n",
       "    }\n",
       "\n",
       "    .dataframe tbody tr th {\n",
       "        vertical-align: top;\n",
       "    }\n",
       "\n",
       "    .dataframe thead th {\n",
       "        text-align: right;\n",
       "    }\n",
       "</style>\n",
       "<table border=\"1\" class=\"dataframe\">\n",
       "  <thead>\n",
       "    <tr style=\"text-align: right;\">\n",
       "      <th></th>\n",
       "      <th>PETR4.SA</th>\n",
       "      <th>GOLL4.SA</th>\n",
       "    </tr>\n",
       "    <tr>\n",
       "      <th>Date</th>\n",
       "      <th></th>\n",
       "      <th></th>\n",
       "    </tr>\n",
       "  </thead>\n",
       "  <tbody>\n",
       "    <tr>\n",
       "      <th>2005-01-03</th>\n",
       "      <td>8.117440</td>\n",
       "      <td>39.531181</td>\n",
       "    </tr>\n",
       "    <tr>\n",
       "      <th>2005-01-04</th>\n",
       "      <td>8.020928</td>\n",
       "      <td>37.205811</td>\n",
       "    </tr>\n",
       "    <tr>\n",
       "      <th>2005-01-05</th>\n",
       "      <td>7.989905</td>\n",
       "      <td>37.224422</td>\n",
       "    </tr>\n",
       "    <tr>\n",
       "      <th>2005-01-06</th>\n",
       "      <td>8.014032</td>\n",
       "      <td>36.554718</td>\n",
       "    </tr>\n",
       "    <tr>\n",
       "      <th>2005-01-07</th>\n",
       "      <td>8.049399</td>\n",
       "      <td>36.740738</td>\n",
       "    </tr>\n",
       "  </tbody>\n",
       "</table>\n",
       "</div>"
      ],
      "text/plain": [
       "            PETR4.SA   GOLL4.SA\n",
       "Date                           \n",
       "2005-01-03  8.117440  39.531181\n",
       "2005-01-04  8.020928  37.205811\n",
       "2005-01-05  7.989905  37.224422\n",
       "2005-01-06  8.014032  36.554718\n",
       "2005-01-07  8.049399  36.740738"
      ]
     },
     "execution_count": 90,
     "metadata": {},
     "output_type": "execute_result"
    }
   ],
   "source": [
    "sec_data.head()"
   ]
  },
  {
   "cell_type": "code",
   "execution_count": 91,
   "metadata": {},
   "outputs": [],
   "source": [
    "sec_returns = np.log(sec_data / sec_data.shift(1))"
   ]
  },
  {
   "cell_type": "code",
   "execution_count": 92,
   "metadata": {},
   "outputs": [
    {
     "data": {
      "text/plain": [
       "{'PETR4.SA': 0.20917586147880288, 'GOLL4.SA': 0.4285775612143568}"
      ]
     },
     "execution_count": 92,
     "metadata": {},
     "output_type": "execute_result"
    }
   ],
   "source": [
    "# Pegando a var anualizada\n",
    "\n",
    "var = {}\n",
    "\n",
    "for t in tickers:\n",
    "    var[t] = sec_returns[t].var() * 250\n",
    "\n",
    "var"
   ]
  },
  {
   "cell_type": "code",
   "execution_count": 93,
   "metadata": {},
   "outputs": [],
   "source": [
    "# Pegando a matriz co-variancia entre os tickers\n",
    "\n",
    "cov_matrix = sec_returns.cov()\n",
    "#cov_matrix"
   ]
  },
  {
   "cell_type": "code",
   "execution_count": 94,
   "metadata": {},
   "outputs": [],
   "source": [
    "# Matriz co-varianca anualizada\n",
    "\n",
    "cov_matrix_a = sec_returns.cov()*250\n",
    "#cov_matrix_a"
   ]
  },
  {
   "cell_type": "code",
   "execution_count": 95,
   "metadata": {},
   "outputs": [
    {
     "data": {
      "text/html": [
       "<div>\n",
       "<style scoped>\n",
       "    .dataframe tbody tr th:only-of-type {\n",
       "        vertical-align: middle;\n",
       "    }\n",
       "\n",
       "    .dataframe tbody tr th {\n",
       "        vertical-align: top;\n",
       "    }\n",
       "\n",
       "    .dataframe thead th {\n",
       "        text-align: right;\n",
       "    }\n",
       "</style>\n",
       "<table border=\"1\" class=\"dataframe\">\n",
       "  <thead>\n",
       "    <tr style=\"text-align: right;\">\n",
       "      <th></th>\n",
       "      <th>PETR4.SA</th>\n",
       "      <th>GOLL4.SA</th>\n",
       "    </tr>\n",
       "  </thead>\n",
       "  <tbody>\n",
       "    <tr>\n",
       "      <th>PETR4.SA</th>\n",
       "      <td>1.000000</td>\n",
       "      <td>0.403501</td>\n",
       "    </tr>\n",
       "    <tr>\n",
       "      <th>GOLL4.SA</th>\n",
       "      <td>0.403501</td>\n",
       "      <td>1.000000</td>\n",
       "    </tr>\n",
       "  </tbody>\n",
       "</table>\n",
       "</div>"
      ],
      "text/plain": [
       "          PETR4.SA  GOLL4.SA\n",
       "PETR4.SA  1.000000  0.403501\n",
       "GOLL4.SA  0.403501  1.000000"
      ]
     },
     "execution_count": 95,
     "metadata": {},
     "output_type": "execute_result"
    }
   ],
   "source": [
    "# Pegando a correlação entre ativos\n",
    "\n",
    "corr_matrix = sec_returns.corr()\n",
    "corr_matrix"
   ]
  },
  {
   "cell_type": "markdown",
   "metadata": {},
   "source": [
    "# Variância de um portifólio\n",
    "\n",
    "Para 2 ações:\n",
    "$portvar = w_1^2*std_1^2 + 2*w_1*std_1*w_2*std_2*correl(1,2) + w_2^2*std_2^2$\n",
    "\n",
    "$portvar = w_T * Matriz.cov() * w$"
   ]
  },
  {
   "cell_type": "code",
   "execution_count": null,
   "metadata": {},
   "outputs": [],
   "source": [
    "# Pegando os pesos das ações\n",
    "\n",
    "pesos = np.array([0.5,0.5])"
   ]
  },
  {
   "cell_type": "markdown",
   "metadata": {},
   "source": [
    "<img src='port_var.png'>"
   ]
  },
  {
   "cell_type": "code",
   "execution_count": null,
   "metadata": {},
   "outputs": [],
   "source": [
    "# Variância do portifólio\n",
    "\n",
    "port_var = np.dot(pesos.T, np.dot(sec_returns.cov()*250,pesos))\n",
    "\n",
    "#port_var"
   ]
  },
  {
   "cell_type": "code",
   "execution_count": null,
   "metadata": {},
   "outputs": [],
   "source": [
    "# Desvio padrão do portifólio\n",
    "\n",
    "port_vol = (port_var)**0.5\n",
    "\n",
    "#port_vol"
   ]
  },
  {
   "cell_type": "code",
   "execution_count": null,
   "metadata": {},
   "outputs": [],
   "source": [
    "print('O desvio padrão do portifolio é: ' + str(round(port_vol,4)*100) + '%')"
   ]
  },
  {
   "cell_type": "markdown",
   "metadata": {},
   "source": [
    "# Risco sistemático e não sistemático\n"
   ]
  },
  {
   "cell_type": "markdown",
   "metadata": {},
   "source": [
    "$Risco diversificável = variancia do portifolio - variancia poderada$\n",
    "\n",
    "$Risco diversificável = var(port) - (w_1^2*std_1^2) - (w_2^2*std_2^2)$\n",
    "\n",
    "$Risco diversificável = 2*w_1*w_2*cov(1,2)$\n",
    "\n",
    "$Risco sistemático = Risco total - Risco diversificável$"
   ]
  },
  {
   "cell_type": "code",
   "execution_count": null,
   "metadata": {},
   "outputs": [],
   "source": [
    "print('Risco Total = ' + str(round(port_var*100,4)) + '%')"
   ]
  },
  {
   "cell_type": "code",
   "execution_count": null,
   "metadata": {},
   "outputs": [],
   "source": [
    "PG_var_a = sec_returns['PG'].var() *250\n",
    "\n",
    "#PG_var_a"
   ]
  },
  {
   "cell_type": "code",
   "execution_count": null,
   "metadata": {},
   "outputs": [],
   "source": [
    "BEI_var_a = sec_returns['BEI.DE'].var()*250\n",
    "\n",
    "#BEI_var_a"
   ]
  },
  {
   "cell_type": "code",
   "execution_count": null,
   "metadata": {
    "scrolled": true
   },
   "outputs": [],
   "source": [
    "dr = port_var - (pesos[0]**2*PG_var_a) - (pesos[1]**2*BEI_var_a)\n",
    "\n",
    "#dr"
   ]
  },
  {
   "cell_type": "code",
   "execution_count": null,
   "metadata": {},
   "outputs": [],
   "source": [
    "print('Risco diversificável = ' + str(round(dr*100,4)) + '%')"
   ]
  },
  {
   "cell_type": "code",
   "execution_count": null,
   "metadata": {},
   "outputs": [],
   "source": [
    "n_dr = port_var - dr\n",
    "\n",
    "#n_dr"
   ]
  },
  {
   "cell_type": "code",
   "execution_count": null,
   "metadata": {},
   "outputs": [],
   "source": [
    "print('Risco não diversificável = ' + str(round(n_dr*100,4)) + '%')"
   ]
  }
 ],
 "metadata": {
  "kernelspec": {
   "display_name": "Python 3",
   "language": "python",
   "name": "python3"
  },
  "language_info": {
   "codemirror_mode": {
    "name": "ipython",
    "version": 3
   },
   "file_extension": ".py",
   "mimetype": "text/x-python",
   "name": "python",
   "nbconvert_exporter": "python",
   "pygments_lexer": "ipython3",
   "version": "3.7.6"
  }
 },
 "nbformat": 4,
 "nbformat_minor": 4
}
