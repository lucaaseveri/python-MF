{
 "cells": [
  {
   "cell_type": "markdown",
   "metadata": {},
   "source": [
    "# Regressão Linear\n",
    "\n",
    "Tenta minimizar a distância de uma reta para todos os pontos.\n",
    "\n",
    "$y = alfa + beta*x$"
   ]
  },
  {
   "cell_type": "code",
   "execution_count": null,
   "metadata": {},
   "outputs": [],
   "source": [
    "import numpy as np\n",
    "import pandas as pd\n",
    "from scipy import stats\n",
    "import statsmodels.api as sm\n",
    "import matplotlib.pyplot as plt"
   ]
  },
  {
   "cell_type": "code",
   "execution_count": null,
   "metadata": {},
   "outputs": [],
   "source": [
    "data = pd.read_excel('Regressão Linear (Housing Price).xlsx')"
   ]
  },
  {
   "cell_type": "code",
   "execution_count": null,
   "metadata": {
    "scrolled": false
   },
   "outputs": [],
   "source": [
    "data.head()"
   ]
  },
  {
   "cell_type": "code",
   "execution_count": null,
   "metadata": {},
   "outputs": [],
   "source": [
    "data[['House Price', 'House Size (sq.ft.)']].head()"
   ]
  },
  {
   "cell_type": "markdown",
   "metadata": {},
   "source": [
    "## A regressão é univariada, ou seja, trabalha somente com 2 variáveis"
   ]
  },
  {
   "cell_type": "markdown",
   "metadata": {},
   "source": [
    "### Como plotar gráficos de regressões:"
   ]
  },
  {
   "cell_type": "code",
   "execution_count": null,
   "metadata": {},
   "outputs": [],
   "source": [
    "# Definindo as variáveis x e y\n",
    "\n",
    "x = data['House Size (sq.ft.)']\n",
    "y = data['House Price']"
   ]
  },
  {
   "cell_type": "code",
   "execution_count": null,
   "metadata": {},
   "outputs": [],
   "source": [
    "# Gerando um gráfico de dispersão, conseguimos ver a relação deles\n",
    "\n",
    "plt.scatter(x,y)\n",
    "plt.show()"
   ]
  },
  {
   "cell_type": "code",
   "execution_count": null,
   "metadata": {},
   "outputs": [],
   "source": [
    "# Definindo os valores de inicio e fim dos axis(eixos) \n",
    "\n",
    "plt.scatter(x,y)\n",
    "plt.axis([0,2500,0,1500000])\n",
    "plt.show()"
   ]
  },
  {
   "cell_type": "code",
   "execution_count": null,
   "metadata": {},
   "outputs": [],
   "source": [
    "# Colocando nomes nos eixos\n",
    "\n",
    "plt.scatter(x,y)\n",
    "plt.axis([0,2500,0,1500000])\n",
    "plt.ylabel('House Price')\n",
    "plt.xlabel('House Size (sq.ft.)')\n",
    "plt.show()"
   ]
  },
  {
   "cell_type": "markdown",
   "metadata": {},
   "source": [
    "### Erros em regressões:\n",
    "\n",
    "$y = alfa + beta*x + erro$\n",
    "\n",
    "   * No caso de regressões lineares simples, os erros são a distâncias entre os pontos.\n",
    "   * Portando, o melhor jeito de traçar uma reta no gráfico, é reduzindo ao máximo o erro.\n",
    "   * Esse método é chamado de MMQ."
   ]
  },
  {
   "cell_type": "markdown",
   "metadata": {},
   "source": [
    "### Teste de significância:\n",
    "\n",
    "$R^2: $ é uma medida que mede a variabilidade da dispersão, ou seja, o quanto essa regressão faz sentido (teste de significância). Ele varia de 0 a 100 e quanto maior melhor. (30% ou mais é um bom indicador)\n",
    "\n",
    "$R^2 = 1 - SSR/SST$\n",
    "\n",
    "\n",
    "$SST: $ é a soma de quadrados entre os dados e a média.\n",
    "\n",
    "$SST = soma(y - média(y))^2$\n",
    "\n",
    "$SSR: $ é a soma de quadrados entre a reta traçada e a média.\n",
    "\n",
    "$SST = soma(f(x) - média(y))^2$"
   ]
  },
  {
   "cell_type": "markdown",
   "metadata": {},
   "source": [
    "### Fazendo a regressão:"
   ]
  },
  {
   "cell_type": "code",
   "execution_count": null,
   "metadata": {},
   "outputs": [],
   "source": [
    "# Adicionar a variável independente como constante\n",
    "\n",
    "x1 = sm.add_constant(x)\n",
    "\n",
    "# OLS = MMQ\n",
    "\n",
    "reg = sm.OLS(y,x1).fit()"
   ]
  },
  {
   "cell_type": "code",
   "execution_count": null,
   "metadata": {},
   "outputs": [],
   "source": [
    "# Todas as informações sobre a regressão\n",
    "\n",
    "reg.summary()"
   ]
  },
  {
   "cell_type": "code",
   "execution_count": null,
   "metadata": {},
   "outputs": [],
   "source": [
    "# Extraindo informações para variáveis.\n",
    "\n",
    "slope, intercept, r_value, p_value, std_err = stats.linregress(x,y)\n",
    "\n",
    "print(slope) # beta\n",
    "print(intercept) # alfa\n",
    "print(r_value) # r (tem q elevar ao quadrado)\n",
    "print(p_value) # p\n",
    "print(std_err) # erro padrão"
   ]
  },
  {
   "cell_type": "code",
   "execution_count": null,
   "metadata": {},
   "outputs": [],
   "source": [
    "# Plotando a regressão linear em um gráfico\n",
    "\n",
    "plt.scatter(x,y)\n",
    "plt.axis([0,2500,0,1500000])\n",
    "plt.ylabel('House Price')\n",
    "plt.xlabel('House Size (sq.ft.)')\n",
    "\n",
    "reg_y = []\n",
    "\n",
    "for i in range(2500):\n",
    "    reg_y.append(slope*i+intercept)\n",
    "\n",
    "plt.plot(x)\n",
    "plt.plot(reg_y)\n",
    "\n",
    "plt.show()"
   ]
  }
 ],
 "metadata": {
  "kernelspec": {
   "display_name": "Python 3",
   "language": "python",
   "name": "python3"
  },
  "language_info": {
   "codemirror_mode": {
    "name": "ipython",
    "version": 3
   },
   "file_extension": ".py",
   "mimetype": "text/x-python",
   "name": "python",
   "nbconvert_exporter": "python",
   "pygments_lexer": "ipython3",
   "version": "3.7.6"
  }
 },
 "nbformat": 4,
 "nbformat_minor": 4
}
