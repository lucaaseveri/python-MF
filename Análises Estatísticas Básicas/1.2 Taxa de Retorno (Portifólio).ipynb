{
 "cells": [
  {
   "cell_type": "markdown",
   "metadata": {},
   "source": [
    "# Taxa de Retorno de um Portifólio"
   ]
  },
  {
   "cell_type": "markdown",
   "metadata": {},
   "source": [
    "## Taxa_Port = Somatorio(peso*retorno)"
   ]
  },
  {
   "cell_type": "code",
   "execution_count": null,
   "metadata": {},
   "outputs": [],
   "source": [
    "import numpy as np\n",
    "import pandas as pd\n",
    "from pandas_datareader import data as wb\n",
    "import matplotlib.pyplot as plt"
   ]
  },
  {
   "cell_type": "code",
   "execution_count": null,
   "metadata": {},
   "outputs": [],
   "source": [
    "acoes = ['LINX3.SA', 'TOTS3.SA', 'SQIA3.SA']\n",
    "\n",
    "mydata = pd.DataFrame()\n",
    "\n",
    "for acao in acoes:\n",
    "    mydata[acao] = wb.DataReader(acao, data_source='yahoo', start='2014-3-1')['Adj Close']"
   ]
  },
  {
   "cell_type": "code",
   "execution_count": null,
   "metadata": {},
   "outputs": [],
   "source": [
    "mydata.head()"
   ]
  },
  {
   "cell_type": "markdown",
   "metadata": {},
   "source": [
    "# Normalização dos preços"
   ]
  },
  {
   "cell_type": "markdown",
   "metadata": {},
   "source": [
    "## P(t)/P(0) * 100"
   ]
  },
  {
   "cell_type": "code",
   "execution_count": null,
   "metadata": {},
   "outputs": [],
   "source": [
    "# Retorna a primeira linha da tabela\n",
    "\n",
    "mydata.iloc[0]"
   ]
  },
  {
   "cell_type": "code",
   "execution_count": null,
   "metadata": {},
   "outputs": [],
   "source": [
    "# Isso faz com que todos os gráficos começem no 100\n",
    "\n",
    "(mydata / mydata.iloc[0] * 100).plot(figsize=(15,6))\n",
    "plt.show()"
   ]
  },
  {
   "cell_type": "markdown",
   "metadata": {},
   "source": [
    "# Calculando a taxa de retorno"
   ]
  },
  {
   "cell_type": "code",
   "execution_count": null,
   "metadata": {
    "scrolled": false
   },
   "outputs": [],
   "source": [
    "# Matriz com o retorno diario de cada ação (x linhas, n=4 colunas)\n",
    "\n",
    "returns = (mydata / mydata.shift(1)) - 1\n",
    "returns.head()"
   ]
  },
  {
   "cell_type": "code",
   "execution_count": null,
   "metadata": {},
   "outputs": [],
   "source": [
    "# Vetor com o peso de cada ação (n=4)\n",
    "\n",
    "peso = np.array([1/3,1/3,1/3])\n",
    "peso"
   ]
  },
  {
   "cell_type": "code",
   "execution_count": null,
   "metadata": {},
   "outputs": [],
   "source": [
    "# Pegando a média do retorno diario de cada ação (virou vetor, n=4)\n",
    "\n",
    "retorno_anual = returns.mean() * 250\n",
    "retorno_anual"
   ]
  },
  {
   "cell_type": "code",
   "execution_count": null,
   "metadata": {},
   "outputs": [],
   "source": [
    "# Multiplicacao de matriz (retorno_anual (4x1) x pesos (1x4))\n",
    "\n",
    "retorno_port1 = np.dot(retorno_anual,peso)\n",
    "retorno_port1"
   ]
  },
  {
   "cell_type": "code",
   "execution_count": null,
   "metadata": {},
   "outputs": [],
   "source": [
    "# Colocando em forma de texto\n",
    "\n",
    "retorno_port_str = str(round(retorno_port1,4)*100) + '%'\n",
    "print (retorno_port_str)"
   ]
  },
  {
   "cell_type": "code",
   "execution_count": null,
   "metadata": {},
   "outputs": [],
   "source": [
    "# Comparando com outros pesos\n",
    "\n",
    "peso2 = np.array([0.5,0,0.5])\n",
    "\n",
    "retorno_port2 = np.dot(retorno_anual,peso2)\n",
    "\n",
    "retorno_port2_str = str(round(retorno_port2,4)*100) + '%'\n",
    "print(retorno_port2_str)"
   ]
  }
 ],
 "metadata": {
  "kernelspec": {
   "display_name": "Python 3",
   "language": "python",
   "name": "python3"
  },
  "language_info": {
   "codemirror_mode": {
    "name": "ipython",
    "version": 3
   },
   "file_extension": ".py",
   "mimetype": "text/x-python",
   "name": "python",
   "nbconvert_exporter": "python",
   "pygments_lexer": "ipython3",
   "version": "3.7.6"
  }
 },
 "nbformat": 4,
 "nbformat_minor": 4
}
