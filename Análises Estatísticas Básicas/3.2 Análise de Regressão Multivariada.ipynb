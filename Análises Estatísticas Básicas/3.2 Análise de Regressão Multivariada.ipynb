{
 "cells": [
  {
   "cell_type": "markdown",
   "metadata": {},
   "source": [
    "# Regressão Simples e Multivariada\n",
    "\n",
    "Simples:\n",
    "$$ Y_i = B_0 + B_1X_i + Erro_i$$\n",
    "\n",
    "Multivariada:\n",
    "$$ Y_i = B_0 + B_1X_1 + B_2X_2 + B_iX_i + Erro_i$$\n",
    "\n",
    "   * OBS: Quanto mais variáveis na equação, maior esperamos o R quadrado.\n",
    "   * Para sabermos se vale a pena, podemos fazer um R quadrado de 2 variáveis, e um R quadrado pra 3 --> Se subir o R quadrado quer dizer que a variável nova contribuiu com o modelo estatístico.\n",
    "   * Podemos também comparar os p-valores dos betas, quanto menor melhor.\n",
    "   * O p-valor dos betas nos diz o quanto o beta é condizente com o modelo.\n",
    "   * Exemplo: Um p-valor de 5% nos permite falar que podemos estar 95% confiantes de que o coeficiente beta que estimamos é diferente de 0.\n",
    "   * P-valores abaixo de 5% é bom, abaixo de 1% é perfeito."
   ]
  },
  {
   "cell_type": "code",
   "execution_count": null,
   "metadata": {
    "scrolled": true
   },
   "outputs": [],
   "source": [
    "import pandas as pd\n",
    "import numpy as np\n",
    "from scipy import stats\n",
    "import statsmodels.api as sm\n",
    "import matplotlib.pyplot as plt"
   ]
  },
  {
   "cell_type": "code",
   "execution_count": null,
   "metadata": {
    "scrolled": true
   },
   "outputs": [],
   "source": [
    "data = pd.read_excel('Regressão Linear (Housing Price).xlsx')\n",
    "data.head()"
   ]
  },
  {
   "cell_type": "code",
   "execution_count": null,
   "metadata": {},
   "outputs": [],
   "source": [
    "# Iremos utilisar as variáveis House Size, Number of Rooms e Year of Construction\n",
    "\n",
    "x = data[['House Size (sq.ft.)', 'Number of Rooms', 'Year of Construction']]\n",
    "y = data['House Price'] "
   ]
  },
  {
   "cell_type": "code",
   "execution_count": null,
   "metadata": {},
   "outputs": [],
   "source": [
    "x1 = sm.add_constant(x)\n",
    "reg = sm.OLS(y,x1).fit()\n",
    "\n",
    "reg.summary()"
   ]
  }
 ],
 "metadata": {
  "kernelspec": {
   "display_name": "Python 3",
   "language": "python",
   "name": "python3"
  },
  "language_info": {
   "codemirror_mode": {
    "name": "ipython",
    "version": 3
   },
   "file_extension": ".py",
   "mimetype": "text/x-python",
   "name": "python",
   "nbconvert_exporter": "python",
   "pygments_lexer": "ipython3",
   "version": "3.7.6"
  }
 },
 "nbformat": 4,
 "nbformat_minor": 4
}
